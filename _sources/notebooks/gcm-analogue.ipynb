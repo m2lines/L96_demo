{
 "cells": [
  {
   "cell_type": "markdown",
   "id": "0",
   "metadata": {},
   "source": [
    "# The Lorenz-96 and its GCM Analog\n",
    "\n",
    "The physical equations of motion of the system describing the atmosphere dynamics are known. Also in the real atmosphere there is variability over all scales, from the smallest molecular scales to the largest planetary scales.\n",
    "Thus, it is not feasible to explicitly solve the known physical equations of motion within Global Climate Models (GCMs), as computational resources limit the range of scales that can be resolved. To make the behavior of the GCM better match the real world, we need to effectively parameterize the effects that the unresolved scales have on the resolved (large) scales.\n",
    "\n",
    "The two time-scale L96 model, described in the the [previous notebook](https://m2lines.github.io/L96_demo/notebooks/L96-two-scale-description.html#), can be considered as a simplified analog for real world atmosphere, where variability resides at only two discrete scales (a simplification of the continuum in the real world). In this analogy, a GCM would be a model that can only solve the equations for the slow time scale, where the effects of the fast time-scale variables would be missing. We introduce the single time-scale version of the L96 model below. To make the single time scale model match the two time scale model, the effects of the fast time scales need to parameterized into the single time scale model."
   ]
  },
  {
   "cell_type": "markdown",
   "id": "1",
   "metadata": {},
   "source": [
    "## The two time-scale model: Analog for the real atmosphere\n",
    "\n",
    "We will first describe a simulation with the two time-scale model from the {doc}`L96-two-scale-description`, which is taken as the control simulation that we hope to replicate with the single time-scale model. \n",
    "\n",
    "The forcing and resolution parameters, $F$, $J$ and $K$, for the two time-scale model are fixed based on {cite}`Wilks2005`, as $F=18$ or $20$, $K=8$, and $J=32$. Here, the value chosen for the parameter $F$ is set large enough to ensure chaotic behavior. We also use the reference values for the $h$, $b$ and $c$ parameters to be, $h=1$, $b=10$, and $c=10$.\n",
    "With this particular choice of parameter values, one model time unit (MTU) is approximately equivalent to five atmospheric days. This estimate is obtained by comparing error-doubling times in the Lorenz-96 model and the real atmosphere {cite}`Lorenz1995`.\n",
    "\n",
    "In the following code, we solve the L96 system using an accurate time-stepping scheme (RK4 with sufficiently small $\\Delta t$), and plot the time evolution for the $X_k$ and $Y_{j,k}$ variables."
   ]
  },
  {
   "cell_type": "code",
   "execution_count": null,
   "id": "2",
   "metadata": {},
   "outputs": [],
   "source": [
    "import numpy as np\n",
    "import matplotlib.pyplot as plt\n",
    "from L96_model import L96"
   ]
  },
  {
   "cell_type": "code",
   "execution_count": null,
   "id": "3",
   "metadata": {},
   "outputs": [],
   "source": [
    "np.random.seed(23)\n",
    "W = L96(8, 32)\n",
    "T = 5.0\n",
    "%time X_true,Y_true,t = W.run(0.05, T)"
   ]
  },
  {
   "cell_type": "markdown",
   "id": "4",
   "metadata": {},
   "source": [
    "Here is the what the solution looks like:"
   ]
  },
  {
   "cell_type": "code",
   "execution_count": null,
   "id": "5",
   "metadata": {},
   "outputs": [],
   "source": [
    "plt.figure(figsize=(5, 4), dpi=150)\n",
    "\n",
    "plt.subplot(121)\n",
    "plt.contourf(W.k, t, X_true)\n",
    "plt.colorbar()\n",
    "plt.xlabel(\"k\")\n",
    "plt.ylabel(\"t\")\n",
    "plt.title(\"$X_k(t)$\")\n",
    "\n",
    "plt.subplot(122)\n",
    "plt.contourf(W.j / W.J, t, Y_true, levels=np.linspace(-1, 1, 10))\n",
    "plt.xlabel(\"k+j/J\")\n",
    "plt.ylabel(\"t\")\n",
    "plt.title(\"$Y_{j,k}(t)$\")\n",
    "\n",
    "plt.tight_layout()"
   ]
  },
  {
   "cell_type": "markdown",
   "id": "6",
   "metadata": {},
   "source": [
    "## The single time-scale model: Analog for a general circulation model (GCM)\n",
    "\n",
    "The two time-scale model discussed above solves a set of equations for the slow and fast variables, where the equations for the slow variables are:\n",
    "\n",
    "\\begin{align}\n",
    "\\frac{d}{dt} X_k\n",
    "&= - X_{k-1} \\left( X_{k-2} - X_{k+1} \\right) - X_k + F - \\underbrace{ \n",
    "\\left( \\frac{hc}{b} \\right) \\sum_{j=0}^{J-1} Y_{j,k}\n",
    "}_{=U_k} \\ .\n",
    "\\end{align}\n",
    "\n",
    "Here the effects of the fast scales on the slow scales are represented by the last term on the RHS, denoted as $U_k$, $k=1,\\ldots,k$. \n",
    "\n",
    "In the single time-scale model the explicit equations for the fast scales are not known, and so we do not know what $Y_{j,k}$ or subsequently $U_k$ are. So, in the single time-scale model the effects of the fast scales are either missing, $U_k=0$, or they need to be specified/parameterized purely in terms of the known slow time-scale variables, $U_k \\approx P (X_k)$."
   ]
  },
  {
   "cell_type": "markdown",
   "id": "7",
   "metadata": {},
   "source": [
    "In the following code, we show how the single time scale model can be solved. We use `L96_eq1_xdot` (code shown below), which returns the tendency (RHS) corresponding to the following equation, where there are no coupling or parameterization terms, \n",
    "\n",
    "\n",
    "\\begin{align}\n",
    "\\frac{d}{dt} X_k\n",
    "&= - X_{k-1} \\left( X_{k-2} - X_{k+1} \\right) - X_k + F.\n",
    "\\end{align}"
   ]
  },
  {
   "cell_type": "code",
   "execution_count": null,
   "id": "8",
   "metadata": {},
   "outputs": [],
   "source": [
    "from L96_model import L96_eq1_xdot\n",
    "from utils import display_source"
   ]
  },
  {
   "cell_type": "code",
   "execution_count": null,
   "id": "9",
   "metadata": {},
   "outputs": [],
   "source": [
    "display_source(L96_eq1_xdot)"
   ]
  },
  {
   "cell_type": "markdown",
   "id": "10",
   "metadata": {},
   "source": [
    "Now we define `GCM`, which solves for the temporal evolution of $X$s using a simple Euler integration."
   ]
  },
  {
   "cell_type": "code",
   "execution_count": null,
   "id": "11",
   "metadata": {},
   "outputs": [],
   "source": [
    "#  We define the GCM which solves for X in time and returns its time series\n",
    "def GCM(X0, F, dt, nt, param=[0]):\n",
    "    time, hist, X = dt * np.arange(nt), np.zeros((nt, len(X0))) * np.nan, X0.copy()\n",
    "\n",
    "    for n in range(nt):\n",
    "        X = X + dt * (L96_eq1_xdot(X, F) - np.polyval(param, X))\n",
    "        if np.abs(X).max() > 1e3:\n",
    "            break\n",
    "        hist[n], time[n] = X, dt * (n + 1)\n",
    "    return hist, time"
   ]
  },
  {
   "cell_type": "markdown",
   "id": "12",
   "metadata": {},
   "source": [
    "Notice that we have added the possibility of adding a parameterization that may take the form a polynomial function, this will be discussed futher below."
   ]
  },
  {
   "cell_type": "code",
   "execution_count": null,
   "id": "13",
   "metadata": {},
   "outputs": [],
   "source": [
    "X_init, dt, F_mod = X_true[0], 0.002, W.F\n",
    "# set the initial condition to be the same\n",
    "# we also set the dt to be smaller as the Euler scheme is less accurate\n",
    "\n",
    "# no parameterization\n",
    "X_gcm_no_param, T_gcm_no_param = GCM(X_init, F_mod, dt, int(T / dt))"
   ]
  },
  {
   "cell_type": "code",
   "execution_count": null,
   "id": "14",
   "metadata": {},
   "outputs": [],
   "source": [
    "plt.figure(figsize=(2.5, 4), dpi=150)\n",
    "\n",
    "plt.subplot(111)\n",
    "plt.contourf(W.k, T_gcm_no_param, X_gcm_no_param)\n",
    "plt.colorbar()\n",
    "plt.xlabel(\"k\")\n",
    "plt.ylabel(\"t\")\n",
    "plt.title(\"$X_k(t)$\")\n",
    "\n",
    "plt.tight_layout()"
   ]
  },
  {
   "cell_type": "markdown",
   "id": "15",
   "metadata": {},
   "source": [
    "Clearly, the evolution the single time scale system does not even qualitatively match the evolution of the two time scale system. For example, the leftward propagation is completely missing. "
   ]
  },
  {
   "cell_type": "markdown",
   "id": "16",
   "metadata": {},
   "source": [
    "## Adding a parametization to the single time-scale model\n",
    "\n",
    "The single time-scale model does not behave the same as the two time-scale model, since the effects of the fast time-scales (or \"unresolved scales\" or \"sub-grid effects\" or \"sub-grid tendencies\") are missing. To obtain a closer match to the two time-scale model, we need to introduce these missing effects into the single time-scale model. Adding these missing effects is known as parameterization, where the effect of the missing scales are represented purely in terms of the variables that are known in the gcm ($X$'s only in the single time-scale model).\n",
    "\n",
    "The one time-scale equation of the Lorenz-96 model with a parameterization for the effects of the fast time-scale , can be written as:\n",
    "\\begin{align}\n",
    "\\frac{d}{dt} X_k\n",
    "&= - X_{k-1} \\left( X_{k-2} - X_{k+1} \\right) - X_k + F - P\\left( X_k \\right) \\ .\n",
    "\\end{align}\n",
    "\n",
    "Here, we consider a particular functional form for modeling the unknown parameterization, using a polynomial approximation. \n",
    "Example of such a parameterization include the fourth-order polynomial form proposed by\n",
    "{cite}`Wilks2005`: \n",
    "\\begin{equation*}\n",
    "P(X_k)=b_0 + b_1 X_k + b_2 X_k^2 + b_3 X_k^3 + b_4 X_k^4 + e_k.\n",
    "\\end{equation*}\n",
    "\n",
    "Alternatively, we also consider a first-order polynomial as suggested by\n",
    "{cite}`Arnold2013`: \n",
    "\\begin{equation*}\n",
    "P(X_k)=b_0 + b_1 X_k + e_k.\n",
    "\\end{equation*}\n",
    "\n",
    "In both these forms $e_k$ is a stochastic component, which will not be discussed further till the next notebook. "
   ]
  },
  {
   "cell_type": "markdown",
   "id": "17",
   "metadata": {},
   "source": [
    "All parameterizations have some unknown parameters, which need to be determined in some way. These parameters may be guessed based on some intuition about the physics, or determined from data collected in the real system (two time-scale model here), or optimized to make the evolution of the reduced (single time-scale) model match the evolution of the real world or full (two time-scale model) model. In this notebook we will use the second approach, and the last approach will be discussed in {doc}`estimating-gcm-parameters`. "
   ]
  },
  {
   "cell_type": "markdown",
   "id": "18",
   "metadata": {},
   "source": [
    "\n",
    "In summary: with the \"real atmosphere\" or two time-scale system in hand, we can \"observe\" the effect of the sub-grid forcing on the large scale ($U_k$) and test the skill of the polynomial function, $P(X_k)$, models/parameterizations."
   ]
  },
  {
   "cell_type": "code",
   "execution_count": null,
   "id": "19",
   "metadata": {},
   "outputs": [],
   "source": [
    "%time X, Y, t = W.run(0.05, 200.) # We first run the 2 time-scale model again for longer time, to generate more data."
   ]
  },
  {
   "cell_type": "code",
   "execution_count": null,
   "id": "20",
   "metadata": {},
   "outputs": [],
   "source": [
    "X_copy = X\n",
    "# Generate U_k samples from 2 time-scale model\n",
    "# using the longer time series, we now generate samples of U_k that are used to\n",
    "# estimate the unknown parameters.\n",
    "U_sample = (W.h * W.c / W.b) * Y.reshape((Y.shape[0], W.K, W.J)).sum(axis=-1)"
   ]
  },
  {
   "cell_type": "code",
   "execution_count": null,
   "id": "21",
   "metadata": {},
   "outputs": [],
   "source": [
    "# Fit polynomial of order 1.\n",
    "p1 = np.polyfit(\n",
    "    X_copy.flatten(), U_sample.flatten(), 1\n",
    ")  # Fit a linear curve through the data.\n",
    "print(\"Linear Poly coeffs:\", p1)\n",
    "\n",
    "# We use the parameters from from Wilks, 2005\n",
    "p4 = [\n",
    "    0.000707,\n",
    "    -0.0130,\n",
    "    -0.0190,\n",
    "    1.59,\n",
    "    0.275,\n",
    "]\n",
    "# We could have just as easily have fit the parameters using the data as well."
   ]
  },
  {
   "cell_type": "markdown",
   "id": "22",
   "metadata": {},
   "source": [
    "We now compare the results obtained with a linear polynomial approximation, {cite:t}`Wilks2005` polynomial parameterization and the \"truth\" values of the coupling terms."
   ]
  },
  {
   "cell_type": "code",
   "execution_count": null,
   "id": "23",
   "metadata": {},
   "outputs": [],
   "source": [
    "plt.figure(dpi=150)\n",
    "# 2D histogram of X vs U\n",
    "plt.hist2d(X_copy.flatten(), U_sample.flatten(), bins=50, density=True)\n",
    "plt.xlabel(\"$X_k$\")\n",
    "plt.ylabel(r\"$U_k = \\frac{hc}{b}\\sum_j Y_{j,k}$\")\n",
    "plt.colorbar(label=\"PDF\")\n",
    "\n",
    "# Fits from polynomials\n",
    "x = np.linspace(-12, 18, 100)\n",
    "plt.plot(x, np.polyval(p4, x), label=\"$P_4(X_k)$ - Wilks, 2005\")\n",
    "plt.plot(x, np.polyval(p1, x), \"--\", label=\"$P_1(X_k)$\")\n",
    "\n",
    "\n",
    "plt.legend(fontsize=7);"
   ]
  },
  {
   "cell_type": "markdown",
   "id": "24",
   "metadata": {},
   "source": [
    "(sub-grid-hist-label)=\n",
    "The figure above shows that the the relationship between the slow variables ($X_k$) and the observed coupling term ($U_k$) is non-linear. The higher order polynomlial, since it is more flexible, does a better job at capturing the overall pattern, relative to the linear fit. "
   ]
  },
  {
   "cell_type": "markdown",
   "id": "25",
   "metadata": {},
   "source": [
    "We had already setup the code in `GCM` to accept polynomial parameterizations, which can be turned on by passing the parameters. We will use this in the next section to test the effect that the parameterization has on the single time-scale model."
   ]
  },
  {
   "cell_type": "markdown",
   "id": "26",
   "metadata": {},
   "source": [
    "## Testing the effect of parameterizations in the \"GCM\" model\n",
    "\n",
    "Now that we have a couple of different candidate parameterizations that can roughly predict the relationship between the slow variables and sub-grid forcing, we test their impact in a GCM simulation where the parameterization is required. We compare four simulations:\n",
    "- \"Real world\": corresponding to the \"truth\" model goverened by the full two time-scale Lorenz-96 system.\n",
    "- GCM without parameterization: corresponding to the one time-scale Lorenz-96 system without any the coupling term. We use a forward-Euler scheme to integrate the model forward.\n",
    "- GCM with our parameterization: corresponding to the one time-scale Lorenz-96 system with the linear polynomial approximation of the coupling terms as obtained above.\n",
    "- GCM with {cite}`Wilks2005` parameterization: corresponding to the one time-scale Lorenz-96 system with a third-order polynomial approximation of the coupling terms."
   ]
  },
  {
   "cell_type": "code",
   "execution_count": null,
   "id": "27",
   "metadata": {},
   "outputs": [],
   "source": [
    "np.random.seed(13)\n",
    "T = 5\n",
    "# Real world\n",
    "X_true, Y_true, T_true = W.randomize_IC().run(0.05, T)\n",
    "X_init, dt, F_mod = X_true[0] + 0.0 * np.random.randn(W.K), 0.002, W.F + 0.0\n",
    "# The reason for adding the zero terms to X and F will become clear below, where the amplitude will be increased.\n",
    "\n",
    "# no parameterization\n",
    "X_gcm1, T_gcm1 = GCM(X_init, F_mod, dt, int(T / dt))\n",
    "# Linear parameterization\n",
    "X_gcm2, T_gcm2 = GCM(X_init, F_mod, dt, int(T / dt), param=p1)\n",
    "# Wilks parameterization - 4th order polynomial.\n",
    "X_gcm3, T_gcm3 = GCM(X_init, F_mod, dt, int(T / dt), param=p4)"
   ]
  },
  {
   "cell_type": "markdown",
   "id": "28",
   "metadata": {},
   "source": [
    "Now we look at Hovmoeller plots of the different solutions."
   ]
  },
  {
   "cell_type": "code",
   "execution_count": null,
   "id": "29",
   "metadata": {},
   "outputs": [],
   "source": [
    "plt.figure(dpi=150, figsize=(17, 8))\n",
    "lims = {\"vmin\": -12, \"vmax\": 12, \"levels\": np.linspace(-12, 12, 12), \"extend\": \"both\"}\n",
    "plt.subplot(141)\n",
    "plt.contourf(W.k, T_true + t[-1], X_true, **lims)\n",
    "plt.xlabel(\"$k$\")\n",
    "plt.ylabel(\"$t$\")\n",
    "plt.title(\"Real world\")\n",
    "plt.subplot(142)\n",
    "plt.contourf(W.k, T_gcm1 + t[-1], X_gcm1, **lims)\n",
    "plt.xlabel(\"$k$\")\n",
    "plt.ylabel(\"$t$\")\n",
    "plt.title(\"GCM without parameterization\")\n",
    "plt.subplot(143)\n",
    "plt.contourf(W.k, T_gcm3 + t[-1], X_gcm2, **lims)\n",
    "plt.xlabel(\"$k$\")\n",
    "plt.ylabel(\"$t$\")\n",
    "plt.title(\"GCM with linear parameterization\")\n",
    "plt.subplot(144)\n",
    "plt.contourf(W.k, T_gcm2 + t[-1], X_gcm3, **lims)\n",
    "plt.xlabel(\"$k$\")\n",
    "plt.ylabel(\"$t$\")\n",
    "plt.title(\"GCM with Wilks' parameterization\")\n",
    "\n",
    "plt.tight_layout()"
   ]
  },
  {
   "cell_type": "markdown",
   "id": "30",
   "metadata": {},
   "source": [
    "The next plot shows the temporal evolution of the variable $X_3$ obtained with the four models listed above."
   ]
  },
  {
   "cell_type": "code",
   "execution_count": null,
   "id": "31",
   "metadata": {},
   "outputs": [],
   "source": [
    "k = 3\n",
    "plt.figure(dpi=150)\n",
    "plt.plot(T_true + t[-1], X_true[:, k], \"--\", label=\"Real world\")\n",
    "plt.plot(T_gcm1 + t[-1], X_gcm1[:, k], \":\", label=\"GCM without parameterization\")\n",
    "plt.plot(T_gcm1 + t[-1], X_gcm2[:, k], label=\"GCM with our parameterization\")\n",
    "plt.plot(T_gcm1 + t[-1], X_gcm3[:, k], label=\"GCM with Wilks parameterization\")\n",
    "plt.xlabel(\"$t$\")\n",
    "plt.ylabel(\"$X_3(t)$\")\n",
    "plt.legend(fontsize=7, loc=1)\n",
    "plt.ylim(-10, 25);"
   ]
  },
  {
   "cell_type": "markdown",
   "id": "32",
   "metadata": {},
   "source": [
    "As seen above, all the simulation diverge at long times,and the unparameterized simulation diverges very rapidly. On the other hand, the parameterized GCMs track the \"real world\" solution better. The Wilks parameterization does better than the linear fit."
   ]
  },
  {
   "cell_type": "markdown",
   "id": "33",
   "metadata": {},
   "source": [
    "## Summary\n",
    "\n",
    "In this chapter:\n",
    "- We argued that the single time-scale L96 model is a reduced representation of the two time-scale L96 model, which can be considered analogous to the way GCMs are a reduced repseration of the real world. \n",
    "- We showed that missing effects need to be parameterized, if the reduced representation is required behave like the full model/real world.\n",
    "- We used the two time-scale L96 model to generate a \"truth\" dataset for the effects of unresolved scales. \n",
    "- We built a \"GCM\" with a polynomial parameterization of coupling to unresolved processes ($\\left( \\frac{hc}{b} \\right) \\sum_{j=0}^{J-1} Y_{j,k}$)\n",
    "- Finally we compared the solution from the two time-scale, single time-scale and parameterized single time-scale models, showing that the paramaterized version evolves more similarly to the two time-scale model.\n",
    "\n",
    "In the next chapter we will further explore some key properties of parameterizations, and also discuss the other sources of error that can lead to a difference between the reduced and full models (or GCMs and real world)."
   ]
  },
  {
   "cell_type": "markdown",
   "id": "34",
   "metadata": {},
   "source": []
  }
 ],
 "metadata": {
  "kernelspec": {
   "display_name": "Python 3 (ipykernel)",
   "language": "python",
   "name": "python3"
  },
  "language_info": {
   "codemirror_mode": {
    "name": "ipython",
    "version": 3
   },
   "file_extension": ".py",
   "mimetype": "text/x-python",
   "name": "python",
   "nbconvert_exporter": "python",
   "pygments_lexer": "ipython3",
   "version": "3.10.12"
  }
 },
 "nbformat": 4,
 "nbformat_minor": 5
}
