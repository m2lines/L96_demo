{
 "cells": [
  {
   "cell_type": "markdown",
   "id": "0",
   "metadata": {},
   "source": [
    "# Applying SINDy equation identification to L96"
   ]
  },
  {
   "cell_type": "markdown",
   "id": "1",
   "metadata": {
    "tags": []
   },
   "source": [
    "## Outline"
   ]
  },
  {
   "cell_type": "markdown",
   "id": "2",
   "metadata": {},
   "source": [
    "This notebook provides an example of SINDy equation identification in application to the two-scale L96 model with the use of `pysindy` library. The objective is to try to identify the governing ODEs for the large-scale variable ($X_i$) if we know only their time measurements. In other words, we want to see how well the SINDy model can capture the form of the governing equations for large-scale variables in the presence of the subgrid forcing by small-scale variables ($Y$) when there is no measurements of the small scales."
   ]
  },
  {
   "cell_type": "markdown",
   "id": "3",
   "metadata": {},
   "source": [
    "## Import"
   ]
  },
  {
   "cell_type": "code",
   "execution_count": null,
   "id": "4",
   "metadata": {},
   "outputs": [],
   "source": [
    "import numpy as np\n",
    "import pysindy as ps\n",
    "import matplotlib.pyplot as plt\n",
    "import seaborn as sns\n",
    "from L96_model import L96, L96_eq1_xdot, integrate_L96_2t, integrate_L96_1t"
   ]
  },
  {
   "cell_type": "markdown",
   "id": "5",
   "metadata": {
    "tags": []
   },
   "source": [
    "## Routines for plotting"
   ]
  },
  {
   "cell_type": "code",
   "execution_count": null,
   "id": "6",
   "metadata": {},
   "outputs": [],
   "source": [
    "colors = [\n",
    "    \"#1f77b4\",\n",
    "    \"#ff7f0e\",\n",
    "    \"#2ca02c\",\n",
    "    \"#d62728\",\n",
    "    \"#9467bd\",\n",
    "    \"#8c564b\",\n",
    "    \"#e377c2\",\n",
    "    \"#7f7f7f\",\n",
    "    \"#bcbd22\",\n",
    "    \"#17becf\",\n",
    "]"
   ]
  },
  {
   "cell_type": "code",
   "execution_count": null,
   "id": "7",
   "metadata": {},
   "outputs": [],
   "source": [
    "def plot_coefficients(\n",
    "    coefficients, input_features=None, feature_names=None, ax=None, **heatmap_kws\n",
    "):\n",
    "    if input_features is None:\n",
    "        input_features = [f\"$\\dot x_{k}$\" for k in range(coefficients.shape[0])]\n",
    "    else:\n",
    "        input_features = [f\"$\\dot {fi}$\" for fi in input_features]\n",
    "\n",
    "    if feature_names is None:\n",
    "        feature_names = [f\"f{k}\" for k in range(coefficients.shape[1])]\n",
    "\n",
    "    with sns.axes_style(style=\"white\", rc={\"axes.facecolor\": (0, 0, 0, 0)}):\n",
    "        if ax is None:\n",
    "            fig, ax = plt.subplots(1, 1)\n",
    "\n",
    "        max_mag = np.max(np.abs(coefficients))\n",
    "        heatmap_args = {\n",
    "            \"xticklabels\": input_features,\n",
    "            \"yticklabels\": feature_names,\n",
    "            \"center\": 0.0,\n",
    "            \"cmap\": sns.color_palette(\"vlag\", n_colors=20, as_cmap=True),\n",
    "            \"ax\": ax,\n",
    "            \"linewidths\": 0.1,\n",
    "            \"linecolor\": \"whitesmoke\",\n",
    "        }\n",
    "        heatmap_args.update(**heatmap_kws)\n",
    "\n",
    "        sns.heatmap(coefficients.T, **heatmap_args)\n",
    "\n",
    "        ax.tick_params(axis=\"y\", rotation=0)\n",
    "\n",
    "    return ax"
   ]
  },
  {
   "cell_type": "code",
   "execution_count": null,
   "id": "8",
   "metadata": {},
   "outputs": [],
   "source": [
    "def signed_sqrt(x):\n",
    "    return np.sign(x) * np.sqrt(np.abs(x))"
   ]
  },
  {
   "cell_type": "code",
   "execution_count": null,
   "id": "9",
   "metadata": {},
   "outputs": [],
   "source": [
    "def compare_coefficient_plots(coefficients, input_features=None, feature_names=None):\n",
    "    n_cols = len(coefficients)\n",
    "    with sns.axes_style(style=\"white\", rc={\"axes.facecolor\": (0, 0, 0, 0)}):\n",
    "        max_mag = np.max(np.abs(coefficients))\n",
    "        fig, axs = plt.subplots(1, 1, figsize=(4, 4), sharey=True, sharex=True)\n",
    "        plot_coefficients(\n",
    "            signed_sqrt(coefficients),\n",
    "            input_features=input_features,\n",
    "            feature_names=feature_names,\n",
    "            ax=axs,\n",
    "            cbar=False,\n",
    "            vmax=max_mag,\n",
    "            vmin=-max_mag,\n",
    "        )\n",
    "        fig.tight_layout()"
   ]
  },
  {
   "cell_type": "markdown",
   "id": "10",
   "metadata": {
    "tags": [],
    "user_expressions": []
   },
   "source": [
    "## L96 two-scale model\n",
    "\n",
    "```{figure} https://www.researchgate.net/publication/319201436/figure/fig1/AS:869115023589376@1584224577926/Visualisation-of-a-two-scale-Lorenz-96-system-with-J-8-and-K-6-Global-scale-values.png\n",
    ":width: 400px\n",
    ":name: l96-equation-figure-sindy2scale\n",
    "\n",
    "*Visualisation of a two-scale Lorenz '96 system with J = 8 and K = 6. Global-scale variables ($X_k$) are updated based on neighbouring variables and on the local-scale variables ($Y_{j,k}$) associated with the corresponding global-scale variable. Local-scale variabless are updated based on neighbouring variables and the associated global-scale variable. The neighbourhood topology of both local and global-scale variables is circular. Image from [Exploiting the chaotic behaviour of atmospheric models with reconfigurable architectures - Scientific Figure on ResearchGate.](https://www.researchgate.net/figure/Visualisation-of-a-two-scale-Lorenz-96-system-with-J-8-and-K-6-Global-scale-values_fig1_319201436)*.\n",
    "```"
   ]
  },
  {
   "cell_type": "markdown",
   "id": "11",
   "metadata": {},
   "source": [
    "Two-time-scale Lorenz 96 model:\n",
    "$$ \\frac{d}{dt} X_k = - X_{k-2} X_{k-1} + X_{k-1} X_{k+1} - X_k + F - \\left( \\frac{hc}{b} \\right) \\sum_{j=0}^{J-1} Y_{j,k} $$\n",
    "$$ \\frac{d}{dt} Y_{j,k} = - c b Y_{j+1,k} (Y_{j+2,k} - Y_{j-1,k}) - c Y_{j,k} + \\left( \\frac{hc}{b} \\right) \\sum_{j=0}^{J-1} X_{k} $$"
   ]
  },
  {
   "cell_type": "markdown",
   "id": "12",
   "metadata": {},
   "source": [
    "We will put K=8 large-scale variables ($X$), for each of them there is J=32 small-scale variables ($Y$). For the first example, we will consider the case of **weak** interaction between the scales, which is defined by the parameter $h$ in the L96 class."
   ]
  },
  {
   "cell_type": "code",
   "execution_count": null,
   "id": "13",
   "metadata": {},
   "outputs": [],
   "source": [
    "K = 8  # Number of degrees of freedom for X\n",
    "J = 32  # Number of degrees of freedom for Y per X\n",
    "Forcing = 18.0  # Model parameter\n",
    "h = 0.1  # WEAK coupling"
   ]
  },
  {
   "cell_type": "code",
   "execution_count": null,
   "id": "14",
   "metadata": {},
   "outputs": [],
   "source": [
    "def s(k, K):\n",
    "    \"\"\"A non-dimension coordinate from -1..+1 corresponding to k=0..K\"\"\"\n",
    "    return 2 * (0.5 + k) / K - 1"
   ]
  },
  {
   "cell_type": "code",
   "execution_count": null,
   "id": "15",
   "metadata": {},
   "outputs": [],
   "source": [
    "# Initial conditions\n",
    "k = np.arange(K)  # For coordinate in plots\n",
    "j = np.arange(J * K)  # For coordinate in plots\n",
    "# Initial conditions\n",
    "X_init = s(k, K) * (s(k, K) - 1) * (s(k, K) + 1)\n",
    "Y_init = 0 * s(j, J * K) * (s(j, J * K) - 1) * (s(j, J * K) + 1)"
   ]
  },
  {
   "cell_type": "code",
   "execution_count": null,
   "id": "16",
   "metadata": {},
   "outputs": [],
   "source": [
    "steps = 1000\n",
    "dt = 0.005"
   ]
  },
  {
   "cell_type": "code",
   "execution_count": null,
   "id": "17",
   "metadata": {},
   "outputs": [],
   "source": [
    "# Create a \"real world\" with K=8 and J=32\n",
    "W = L96(K, J, F=Forcing, h=h)\n",
    "W.set_state(X_init, Y_init)\n",
    "# Run the true state\n",
    "X, Y, t = W.run(dt, dt * steps, store=True)"
   ]
  },
  {
   "cell_type": "code",
   "execution_count": null,
   "id": "18",
   "metadata": {},
   "outputs": [],
   "source": [
    "fig, ax = plt.subplots(1, 1, figsize=(6, 4), dpi=150)\n",
    "contours = ax.contourf(k, t, X, levels=20)\n",
    "fig.colorbar(contours)\n",
    "ax.set(xlabel=\"k\", ylabel=\"t\")\n",
    "plt.show();"
   ]
  },
  {
   "cell_type": "markdown",
   "id": "19",
   "metadata": {},
   "source": [
    "The data array $X$ will be used for the system identification by SINDy method. We suppose that we do not dispose measurements for the small-scale variables $Y$, so their contribution to the large-scale dymanics will basically treated as noise."
   ]
  },
  {
   "cell_type": "markdown",
   "id": "20",
   "metadata": {},
   "source": [
    "## Define SINDy model"
   ]
  },
  {
   "cell_type": "markdown",
   "id": "21",
   "metadata": {},
   "source": [
    "The goal is to identify the governing equations for the large-scale variables $X$, having the measurement for them."
   ]
  },
  {
   "cell_type": "code",
   "execution_count": null,
   "id": "22",
   "metadata": {},
   "outputs": [],
   "source": [
    "differentiation_method = ps.SINDyDerivative(kind=\"finite_difference\", k=1)"
   ]
  },
  {
   "cell_type": "code",
   "execution_count": null,
   "id": "23",
   "metadata": {},
   "outputs": [],
   "source": [
    "feature_library = ps.PolynomialLibrary(degree=2)"
   ]
  },
  {
   "cell_type": "code",
   "execution_count": null,
   "id": "24",
   "metadata": {},
   "outputs": [],
   "source": [
    "# sequential thresholded least squares optimizer\n",
    "optimizer = ps.STLSQ(threshold=0.3)"
   ]
  },
  {
   "cell_type": "code",
   "execution_count": null,
   "id": "25",
   "metadata": {},
   "outputs": [],
   "source": [
    "model = ps.SINDy(\n",
    "    differentiation_method=differentiation_method,\n",
    "    feature_library=feature_library,\n",
    "    optimizer=optimizer,\n",
    "    feature_names=[(\"x\" + str(i)) for i in k],\n",
    ")"
   ]
  },
  {
   "cell_type": "markdown",
   "id": "26",
   "metadata": {},
   "source": [
    "# Optimize coefficients"
   ]
  },
  {
   "cell_type": "code",
   "execution_count": null,
   "id": "27",
   "metadata": {},
   "outputs": [],
   "source": [
    "model.fit(X, t=t)"
   ]
  },
  {
   "cell_type": "code",
   "execution_count": null,
   "id": "28",
   "metadata": {},
   "outputs": [],
   "source": [
    "feature_names = feature_library.get_feature_names()\n",
    "print(feature_names)"
   ]
  },
  {
   "cell_type": "code",
   "execution_count": null,
   "id": "29",
   "metadata": {},
   "outputs": [],
   "source": [
    "model.print()"
   ]
  },
  {
   "cell_type": "code",
   "execution_count": null,
   "id": "30",
   "metadata": {},
   "outputs": [],
   "source": [
    "model.score(X, t=t[1] - t[0])"
   ]
  },
  {
   "cell_type": "code",
   "execution_count": null,
   "id": "31",
   "metadata": {},
   "outputs": [],
   "source": [
    "model.coefficients()"
   ]
  },
  {
   "cell_type": "code",
   "execution_count": null,
   "id": "32",
   "metadata": {},
   "outputs": [],
   "source": [
    "with sns.axes_style(style=\"white\", rc={\"axes.facecolor\": (0, 0, 0, 0)}):\n",
    "    max_mag = np.max(np.abs(model.coefficients()))\n",
    "    fig, axs = plt.subplots(\n",
    "        1, 1, figsize=(8, 10), sharey=True, sharex=True, tight_layout=True\n",
    "    )\n",
    "    plot_coefficients(\n",
    "        model.coefficients(),\n",
    "        input_features=[(\"x\" + str(i)) for i in k],\n",
    "        feature_names=feature_names,\n",
    "        ax=axs,\n",
    "        cbar=True,\n",
    "        vmax=max_mag,\n",
    "        vmin=-max_mag,\n",
    "        cmap=\"seismic\",\n",
    "    )\n",
    "    axs.set(title=\"SINDy coefficients\")"
   ]
  },
  {
   "cell_type": "markdown",
   "id": "33",
   "metadata": {},
   "source": [
    "We can see that the SINDy model captures correctly the dominant terms and gives quite accurate predictions for the model coefficients and the value of the forcing. The subgrid forcing does not appear in this prediction."
   ]
  },
  {
   "cell_type": "markdown",
   "id": "34",
   "metadata": {},
   "source": [
    "## Compare"
   ]
  },
  {
   "cell_type": "markdown",
   "id": "35",
   "metadata": {},
   "source": [
    "### Same initial conditions"
   ]
  },
  {
   "cell_type": "code",
   "execution_count": null,
   "id": "36",
   "metadata": {},
   "outputs": [],
   "source": [
    "sindy_simulation = model.simulate(X_init, t=t)"
   ]
  },
  {
   "cell_type": "code",
   "execution_count": null,
   "id": "37",
   "metadata": {},
   "outputs": [],
   "source": [
    "fig, ax = plt.subplots(1, 1, figsize=(6, 4), dpi=150)\n",
    "for i, component in enumerate(np.linspace(0, K - 1, num=3, dtype=int)):\n",
    "    ax.plot(t, X[:, component], \"--\", color=colors[i])\n",
    "    ax.plot(\n",
    "        t,\n",
    "        sindy_simulation[:, component],\n",
    "        color=colors[i],\n",
    "        label=model.feature_names[component],\n",
    "    )\n",
    "ax.legend(fontsize=7)\n",
    "ax.set(xlabel=\"t\", ylabel=r\"$x_i$\")\n",
    "ax.grid()\n",
    "plt.show();"
   ]
  },
  {
   "cell_type": "markdown",
   "id": "38",
   "metadata": {},
   "source": [
    "## Other initial conditions"
   ]
  },
  {
   "cell_type": "code",
   "execution_count": null,
   "id": "39",
   "metadata": {},
   "outputs": [],
   "source": [
    "X_init_new = 0.5 * s(k, K) * (s(k, K) - 2) * (s(k, K) + 2)\n",
    "W.set_state(X_init_new, Y_init)\n",
    "# Run the true state\n",
    "X_new, Y_new, t = W.run(dt, dt * steps, store=True)"
   ]
  },
  {
   "cell_type": "code",
   "execution_count": null,
   "id": "40",
   "metadata": {},
   "outputs": [],
   "source": [
    "sindy_simulation_new = model.simulate(X_init_new, t=t)"
   ]
  },
  {
   "cell_type": "code",
   "execution_count": null,
   "id": "41",
   "metadata": {},
   "outputs": [],
   "source": [
    "fig, ax = plt.subplots(1, 1, figsize=(6, 4), dpi=150)\n",
    "for i, component in enumerate(np.linspace(0, K - 1, num=3, dtype=int)):\n",
    "    ax.plot(t, X_new[:, component], \"--\", color=colors[i])\n",
    "    ax.plot(\n",
    "        t,\n",
    "        sindy_simulation_new[:, component],\n",
    "        color=colors[i],\n",
    "        label=model.feature_names[component],\n",
    "    )\n",
    "ax.legend(fontsize=7)\n",
    "ax.set(xlabel=\"t\", ylabel=r\"$x_i$\", title=\"New initial conditions\")\n",
    "ax.grid()\n",
    "plt.show();"
   ]
  },
  {
   "cell_type": "markdown",
   "id": "42",
   "metadata": {},
   "source": [
    "Similar to the case with L63 model, the system predicted by SINDy gives an accurate prediction of trajectories for a certain time, then the prediction strts deviating from the original model. It is related to the error in the coefficients obtained in optimization anf the chaotical nature of the Lorenz system."
   ]
  },
  {
   "cell_type": "code",
   "execution_count": null,
   "id": "43",
   "metadata": {},
   "outputs": [],
   "source": [
    "X_init_new = s(k, K) * (s(k, K) - 2) * (s(k, K) + 2)  # Initial conditions"
   ]
  },
  {
   "cell_type": "code",
   "execution_count": null,
   "id": "44",
   "metadata": {},
   "outputs": [],
   "source": [
    "X_new, t = integrate_L96_1t(X_init_new, Forcing, dt, steps)"
   ]
  },
  {
   "cell_type": "code",
   "execution_count": null,
   "id": "45",
   "metadata": {},
   "outputs": [],
   "source": [
    "sindy_simulation_new = model.simulate(X_init_new, t=t)"
   ]
  },
  {
   "cell_type": "code",
   "execution_count": null,
   "id": "46",
   "metadata": {},
   "outputs": [],
   "source": [
    "fig, ax = plt.subplots(1, 1, figsize=(6, 4), dpi=150)\n",
    "for i, component in enumerate(np.linspace(0, K - 1, num=3, dtype=int)):\n",
    "    ax.plot(t, X_new[:, component], \"--\", color=colors[i])\n",
    "    ax.plot(\n",
    "        t,\n",
    "        sindy_simulation_new[:, component],\n",
    "        color=colors[i],\n",
    "        label=model.feature_names[component],\n",
    "    )\n",
    "ax.legend(fontsize=7)\n",
    "ax.set(xlabel=\"t\", ylabel=r\"$x_i$\")\n",
    "ax.grid()\n",
    "plt.show()"
   ]
  },
  {
   "cell_type": "markdown",
   "id": "47",
   "metadata": {
    "tags": []
   },
   "source": [
    "## Case of strong coupling"
   ]
  },
  {
   "cell_type": "markdown",
   "id": "48",
   "metadata": {},
   "source": [
    "Now, let us consider the L96 two-scale model with a stronger coupling between the large and small scales. The coupling coefficient here is put to be 10 times higher."
   ]
  },
  {
   "cell_type": "code",
   "execution_count": null,
   "id": "49",
   "metadata": {},
   "outputs": [],
   "source": [
    "# Create a \"real world\" with K=8 and J=32\n",
    "W_strong = L96(K, J, F=Forcing, h=1.0)\n",
    "W_strong.set_state(X_init, Y_init)\n",
    "# Run the true state\n",
    "X_s, Y_s, t = W_strong.run(dt, dt * steps, store=True)"
   ]
  },
  {
   "cell_type": "code",
   "execution_count": null,
   "id": "50",
   "metadata": {},
   "outputs": [],
   "source": [
    "fig, ax = plt.subplots(1, 1, figsize=(6, 4), dpi=150)\n",
    "contours = ax.contourf(k, t, X_s, levels=20)\n",
    "fig.colorbar(contours)\n",
    "ax.set(xlabel=\"k\", ylabel=\"t\")\n",
    "plt.show()"
   ]
  },
  {
   "cell_type": "markdown",
   "id": "51",
   "metadata": {},
   "source": [
    "### Build the SINDy model"
   ]
  },
  {
   "cell_type": "code",
   "execution_count": null,
   "id": "52",
   "metadata": {},
   "outputs": [],
   "source": [
    "model_s = ps.SINDy(\n",
    "    differentiation_method=differentiation_method,\n",
    "    feature_library=feature_library,\n",
    "    optimizer=optimizer,\n",
    "    feature_names=[(\"x\" + str(i)) for i in k],\n",
    ")"
   ]
  },
  {
   "cell_type": "code",
   "execution_count": null,
   "id": "53",
   "metadata": {},
   "outputs": [],
   "source": [
    "model_s.fit(X_s, t=t)"
   ]
  },
  {
   "cell_type": "code",
   "execution_count": null,
   "id": "54",
   "metadata": {},
   "outputs": [],
   "source": [
    "model_s.print()"
   ]
  },
  {
   "cell_type": "code",
   "execution_count": null,
   "id": "55",
   "metadata": {},
   "outputs": [],
   "source": [
    "with sns.axes_style(style=\"white\", rc={\"axes.facecolor\": (0, 0, 0, 0)}):\n",
    "    max_mag = np.max(np.abs(model_s.coefficients()))\n",
    "    fig, axs = plt.subplots(\n",
    "        1, 1, figsize=(8, 10), sharey=True, sharex=True, tight_layout=True\n",
    "    )\n",
    "    plot_coefficients(\n",
    "        model_s.coefficients(),\n",
    "        input_features=[(\"x\" + str(i)) for i in k],\n",
    "        feature_names=feature_library.get_feature_names(),\n",
    "        ax=axs,\n",
    "        cbar=True,\n",
    "        vmax=max_mag,\n",
    "        vmin=-max_mag,\n",
    "        cmap=\"seismic\",\n",
    "    )\n",
    "    axs.set(title=\"SINDy coefficients\")"
   ]
  },
  {
   "cell_type": "markdown",
   "id": "56",
   "metadata": {},
   "source": [
    "We can see that despite the fact that in general SINDy captures the structure of ODEs, the coefficients become different from the original model, due to the influence of the interaction with the small scale. Interestingly, the coefficients in front of linear terms in the ODEs are now all close to 1.7-1.8 (instead of 1.0 in the true model), and the predicted forcing value is systematically smaller than the true value 18. "
   ]
  },
  {
   "cell_type": "markdown",
   "id": "57",
   "metadata": {},
   "source": [
    "### Run the predicted model"
   ]
  },
  {
   "cell_type": "code",
   "execution_count": null,
   "id": "58",
   "metadata": {},
   "outputs": [],
   "source": [
    "sindy_simulation_s = model_s.simulate(X_init, t=t)"
   ]
  },
  {
   "cell_type": "code",
   "execution_count": null,
   "id": "59",
   "metadata": {},
   "outputs": [],
   "source": [
    "fig, ax = plt.subplots(1, 1, figsize=(6, 4), dpi=150)\n",
    "for i, component in enumerate(np.linspace(0, K - 1, num=3, dtype=int)):\n",
    "    ax.plot(t, X_s[:, component], \"--\", color=colors[i])\n",
    "    ax.plot(\n",
    "        t,\n",
    "        sindy_simulation_s[:, component],\n",
    "        color=colors[i],\n",
    "        label=model.feature_names[component],\n",
    "    )\n",
    "ax.legend(fontsize=7)\n",
    "ax.set(xlabel=\"t\", ylabel=r\"$x_i$\")\n",
    "ax.grid()\n",
    "plt.show()"
   ]
  },
  {
   "cell_type": "markdown",
   "id": "60",
   "metadata": {
    "tags": []
   },
   "source": [
    "The resulting trajectories start deviating fast from the true trajectories. "
   ]
  },
  {
   "cell_type": "markdown",
   "id": "61",
   "metadata": {},
   "source": [
    "## Conclusions\n",
    "\n",
    "Sparse system identification method works well in conditions when we have already have some knowledgement about the equations (about sparsity, the type on non-lineartity) and optimal data representation (good coordinates). "
   ]
  }
 ],
 "metadata": {
  "kernelspec": {
   "display_name": "Python 3 (ipykernel)",
   "language": "python",
   "name": "python3"
  },
  "language_info": {
   "codemirror_mode": {
    "name": "ipython",
    "version": 3
   },
   "file_extension": ".py",
   "mimetype": "text/x-python",
   "name": "python",
   "nbconvert_exporter": "python",
   "pygments_lexer": "ipython3",
   "version": "3.9.16"
  }
 },
 "nbformat": 4,
 "nbformat_minor": 5
}
