{
 "cells": [
  {
   "cell_type": "markdown",
   "id": "0",
   "metadata": {},
   "source": [
    "# Outlook\n",
    "\n",
    "With this JupyterBook, we have designed an introduction to the problem of machine learning for improving climate models. The Lorenz 96 model is a perfect benchmark to illustrate several ideas and concepts, but remains too simple to present a real test case for complex problems in climate physics and modeling. \n",
    "\n",
    "M2LInES has been pushing the boundaries of climate model development through the innovative use of scientific machine learning models to explore: \n",
    "- New subgrid physics parameterizations in the ocean {cite}`sane2023parameterizing,Guillaumin2021,perezhogin2023generative`, sea-ice {cite}`Zampieri2023`, and atmosphere {cite}`Janni2023,Shamekh_2023`. \n",
    "- New corrections from data assimilation for climate model components {cite}`chapman2023benefits,gregory2023deep,gregory2023machine`.\n",
    "- Development of innovative architecture and algorithms for multiscale machine learning related to  turbulence in oceans and atmosphere {cite}`Frezat2022, pedersen2023reliable, otness2023data, ross2022benchmarking`.  \n",
    "\n",
    "These novel techniques and data-driven models are now making their way into global climate models {cite}`zhang2023implementation`, illustrating the importance of bringing climate physics, scientific computing, and modern machine learning techniques together."
   ]
  }
 ],
 "metadata": {
  "kernelspec": {
   "display_name": "Python 3 (ipykernel)",
   "language": "python",
   "name": "python3"
  },
  "language_info": {
   "codemirror_mode": {
    "name": "ipython",
    "version": 3
   },
   "file_extension": ".py",
   "mimetype": "text/x-python",
   "name": "python",
   "nbconvert_exporter": "python",
   "pygments_lexer": "ipython3",
   "version": "3.10.12"
  }
 },
 "nbformat": 4,
 "nbformat_minor": 5
}
