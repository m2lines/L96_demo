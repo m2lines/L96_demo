{
 "cells": [
  {
   "cell_type": "markdown",
   "id": "0",
   "metadata": {},
   "source": [
    "# Introduction to Equation Discovery - Comparing Symbolic Regression Methods"
   ]
  },
  {
   "cell_type": "markdown",
   "id": "1",
   "metadata": {},
   "source": [
    "Upto now we have seen that the climate models we developed are using physical equations that are based on our understanding of the physical processes that govern the climate. However, these equations are often complex and difficult to solve, and they can only be used to model the climate at a coarse resolution.\n",
    "\n",
    "**Equation discovery is a different approach that uses machine learning to automatically discover equations that can be used to model the climate.** Specifically, equation discovery in climate modeling can be used to:\n",
    "- **Automate the process of developing subgrid parameterizations.** Subgrid parameterizations are mathematical equations that are used to represent the effects of processes that are too small to be resolved by climate models. These equations are often complex and difficult to develop, but they can be automatically discovered using equation discovery.\n",
    "- **Identify relationships between variables that are important for understanding climate change.** Machine learning algorithms can learn from large datasets of climate data to identify relationships between variables that are important for understanding climate change.\n",
    "- **Develop models that are more interpretable and that can be used to make better decisions about how to mitigate and adapt to climate change.** Machine learning algorithms can generate equations that are easier to understand than traditional physical equations. This can help scientists and policymakers to understand how climate models work and to make better decisions about how to mitigate and adapt to climate change."
   ]
  },
  {
   "cell_type": "markdown",
   "id": "2",
   "metadata": {},
   "source": [
    "In this notebook, we'll review some common techniques for **Symbolic Regression (SR)**, a family of methods of discovering (simple) equations that relate inputs to outputs.\n",
    "\n",
    "In particular, we'll cover the following methods:\n",
    "\n",
    "- Symbolic regression based on {ref}`genetic-programming-section`\n",
    "    * {ref}`gplearn-sec`\n",
    "    * {ref}`pysr-sec`\n",
    "\n",
    "- Symbolic regression based on {ref}`sparse-regression-sec`\n",
    "    * {ref}`linear-regression-sec`\n",
    "    * {ref}`lasso-sec`\n",
    "    * {ref}`rvm-sec`\n",
    "    * {ref}`stlsq-sec`\n",
    "\n",
    "- Brief overview of other techniques"
   ]
  },
  {
   "cell_type": "code",
   "execution_count": null,
   "id": "3",
   "metadata": {
    "tags": []
   },
   "outputs": [],
   "source": [
    "%matplotlib inline\n",
    "import matplotlib.pyplot as plt\n",
    "import numpy as np\n",
    "import pysindy as ps\n",
    "from sklearn.linear_model import Lasso, LinearRegression\n",
    "from sympy import Number, latex\n",
    "\n",
    "from rvm import RVR"
   ]
  },
  {
   "cell_type": "markdown",
   "id": "4",
   "metadata": {},
   "source": [
    "## Data\n",
    "\n",
    "When explaining the methods, we'll consider the following bivariate system:\n",
    "\n",
    "$$\n",
    "y = x_0^2 - \\frac{1}{2}x_1^2 + \\sin\\left(\\frac{1}{2} x_0 x_1\\right)\n",
    "$$\n",
    "\n",
    "Although the equation is relatively simple, discovering it from $x_0$ and $x_1$ directly is a bit tough, since the $\\sin$ term requires going at least three levels deep in term combinations, and also involves an inner multiplication by a constant (which not all symbolic regression frameworks support)."
   ]
  },
  {
   "cell_type": "code",
   "execution_count": null,
   "id": "5",
   "metadata": {
    "tags": []
   },
   "outputs": [],
   "source": [
    "def toy_function(x):\n",
    "    x0 = x[:, 0]\n",
    "    x1 = x[:, 1]\n",
    "    return x0**2 - 0.5 * x1**2 + np.sin(0.5 * x0 * x1)"
   ]
  },
  {
   "cell_type": "code",
   "execution_count": null,
   "id": "6",
   "metadata": {},
   "outputs": [],
   "source": [
    "def contour(\n",
    "    f, lines=None, linewidths=6, alpha=0.9, linestyles=\"solid\", label=None, **kw\n",
    "):\n",
    "    grid = np.linspace(-4, 4, 150)\n",
    "    xyg = np.array(np.meshgrid(grid, grid))\n",
    "    X = xyg.reshape(2, -1).T\n",
    "    zg = f(X)\n",
    "    xg, yg = xyg\n",
    "    vlim = np.abs(zg).max()\n",
    "    plt.contourf(xg, yg, zg.reshape(xg.shape), 300, vmin=-vlim, vmax=vlim, cmap=\"bwr\")\n",
    "    plt.colorbar(label=label)"
   ]
  },
  {
   "cell_type": "code",
   "execution_count": null,
   "id": "7",
   "metadata": {
    "tags": []
   },
   "outputs": [],
   "source": [
    "x = np.random.normal(size=(1000, 2))\n",
    "y = toy_function(x)"
   ]
  },
  {
   "cell_type": "code",
   "execution_count": null,
   "id": "8",
   "metadata": {
    "tags": []
   },
   "outputs": [],
   "source": [
    "plt.figure(dpi=150)\n",
    "contour(toy_function, label=\"Function value\")\n",
    "plt.title(\"Toy domain for illustrating\\nsymbolic regression\", fontsize=16)\n",
    "plt.xlabel(\"$x_0$\", fontsize=16)\n",
    "plt.ylabel(\"$x_1$\", fontsize=16)\n",
    "plt.show()"
   ]
  },
  {
   "cell_type": "markdown",
   "id": "9",
   "metadata": {},
   "source": [
    "(genetic-programming-section)=\n",
    "## Genetic Programming\n",
    "\n",
    "Genetic programming is a classic technique in AI, and interest in the idea dates back at least to Alan Turing (who proposes the idea in the [same paper](https://doi.org/10.1093/mind/LIX.236.433) that introduces the imitation game, or Turing test).\n",
    "\n",
    "The general idea is to have a:\n",
    "- \"Population\" of programs (in our case, possible symbolic expressions, usually represented as trees)\n",
    "- Some notion of individual \"fitness\" (in our case, how well they model the data, as well as their simplicity)\n",
    "- Some means of applying random \"mutations\" (e.g. adding a term, deleting a term)\n",
    "\n",
    "```{figure} figs/gp_mutation_types.png\n",
    ":name: genetic-programming-mutation-types\n",
    "\n",
    "Some examples for different mutation types\n",
    "```\n",
    "\n",
    "\"Crossover\" and \"subtree\" mutations combine features from multiple candidate equations, imitating the process of genetic recombination from sexual reproduction. \"Hoist\" and \"point\" mutations modify individual equations, imitating the process of genetic mutation from, e.g., random errors in DNA replication.\n",
    "\n",
    "Specific mutations aside, programs can have a limited lifespan, and those with high \"fitness\" produce more \"offspring\" (possibly-mutated versions of themselves). However, everything is probabilistic, so programs with lower fitness can still persist. This is critically important, because it allows genetic programming to overcome local minima during optimization.\n",
    "\n",
    "Note that although genetic programming can be a robust way to solve extremely difficult non-convex optimization problems (as perhaps evidenced by life itself), it also tends to be slow and resource-intensive."
   ]
  },
  {
   "cell_type": "markdown",
   "id": "10",
   "metadata": {},
   "source": [
    "(gplearn-sec)=\n",
    "### gplearn\n",
    "\n",
    "One nicely-documented library for \"pure\" genetic programming-based symbolic regression is [gplearn](https://gplearn.readthedocs.io/en/stable/), which provides a scikit-learn style API and a number of configuration options:\n",
    "\n",
    "#### Run gplearn"
   ]
  },
  {
   "cell_type": "code",
   "execution_count": null,
   "id": "11",
   "metadata": {
    "tags": []
   },
   "outputs": [],
   "source": [
    "import gplearn\n",
    "import gplearn.genetic"
   ]
  },
  {
   "cell_type": "code",
   "execution_count": null,
   "id": "12",
   "metadata": {
    "tags": []
   },
   "outputs": [],
   "source": [
    "gplearn_sr = gplearn.genetic.SymbolicRegressor(\n",
    "    population_size=5000,\n",
    "    generations=50,\n",
    "    p_crossover=0.7,\n",
    "    p_subtree_mutation=0.1,\n",
    "    p_hoist_mutation=0.05,\n",
    "    p_point_mutation=0.1,\n",
    "    max_samples=0.9,\n",
    "    verbose=1,\n",
    "    parsimony_coefficient=0.01,\n",
    "    function_set=(\"add\", \"mul\", \"sin\"),\n",
    ")\n",
    "gplearn_sr.fit(x, y)"
   ]
  },
  {
   "cell_type": "markdown",
   "id": "13",
   "metadata": {},
   "source": [
    "#### Interpret results"
   ]
  },
  {
   "cell_type": "code",
   "execution_count": null,
   "id": "14",
   "metadata": {
    "tags": []
   },
   "outputs": [],
   "source": [
    "print(gplearn_sr._program)"
   ]
  },
  {
   "cell_type": "markdown",
   "id": "15",
   "metadata": {},
   "source": [
    "This looks very close to the right answer, though the constants are slightly off."
   ]
  },
  {
   "cell_type": "code",
   "execution_count": null,
   "id": "16",
   "metadata": {
    "tags": []
   },
   "outputs": [],
   "source": [
    "[const for const in gplearn_sr._program.program if isinstance(const, float)]"
   ]
  },
  {
   "cell_type": "markdown",
   "id": "17",
   "metadata": {},
   "source": [
    "This is likely because gplearn mutations which add or update constants always pick values by drawing random uniform values (within pre-specified ranges, by default -1 to 1). In my limited experience so far, this is one of the major inefficiencies."
   ]
  },
  {
   "cell_type": "markdown",
   "id": "18",
   "metadata": {},
   "source": [
    "(pysr-sec)=\n",
    "### PySR\n",
    "\n",
    "[PySR](https://pysr.readthedocs.io/en/latest/) is a different library for symbolic regression which, though still based on genetic programming, includes simulated annealing and gradient-free optimization to set the values of constants as well as performance improvements (although accessible via a Python API, the main library is written in Julia for speed). This seems to make it a bit more reliable and precise.\n",
    "\n",
    "#### Run PySR"
   ]
  },
  {
   "cell_type": "code",
   "execution_count": null,
   "id": "19",
   "metadata": {
    "tags": []
   },
   "outputs": [],
   "source": [
    "import pysr"
   ]
  },
  {
   "cell_type": "code",
   "execution_count": null,
   "id": "20",
   "metadata": {
    "tags": []
   },
   "outputs": [],
   "source": [
    "equations = pysr.PySRRegressor(\n",
    "    niterations=5,\n",
    "    binary_operators=[\"+\", \"*\"],  # operators that can combine two terms\n",
    "    unary_operators=[\"sin\"],  # operators that modify a single term\n",
    ")\n",
    "equations.fit(x, y)"
   ]
  },
  {
   "cell_type": "markdown",
   "id": "21",
   "metadata": {},
   "source": [
    "#### Interpret results"
   ]
  },
  {
   "cell_type": "code",
   "execution_count": null,
   "id": "22",
   "metadata": {},
   "outputs": [],
   "source": [
    "def round_expr(expr, num_digits=4):\n",
    "    return expr.xreplace({n: round(n, num_digits) for n in expr.atoms(Number)})"
   ]
  },
  {
   "cell_type": "code",
   "execution_count": null,
   "id": "23",
   "metadata": {},
   "outputs": [],
   "source": [
    "round_expr(equations.sympy())"
   ]
  },
  {
   "cell_type": "markdown",
   "id": "24",
   "metadata": {},
   "source": [
    "It looks like PySR is able to not only discover the correct equation, but also format it for us nicely.\n",
    "\n",
    "In addition, it saves a Pareto frontier of possible expressions of varying complexities, which had the lowest error of any other equations of equal or lesser complexity (with a configurable trade-off rule):"
   ]
  },
  {
   "cell_type": "code",
   "execution_count": null,
   "id": "25",
   "metadata": {},
   "outputs": [],
   "source": [
    "equations.equations_"
   ]
  },
  {
   "cell_type": "code",
   "execution_count": null,
   "id": "26",
   "metadata": {},
   "outputs": [],
   "source": [
    "equations.equations_.loss"
   ]
  },
  {
   "cell_type": "code",
   "execution_count": null,
   "id": "27",
   "metadata": {},
   "outputs": [],
   "source": [
    "plt.figure(figsize=(12, 3), dpi=150)\n",
    "plt.bar(\n",
    "    np.arange(len(equations.equations_)),\n",
    "    equations.equations_.loss,\n",
    "    width=0.33,\n",
    "    color=\"blue\",\n",
    ")\n",
    "\n",
    "\n",
    "plt.yscale(\"log\")\n",
    "plt.ylabel(\"Mean squared error\", fontsize=14, color=\"blue\")\n",
    "plt.xticks(\n",
    "    range(len(equations.equations_)),\n",
    "    [f\"${latex(round_expr(v,7))}$\" for v in equations.equations_.sympy_format],\n",
    "    rotation=30,\n",
    "    ha=\"right\",\n",
    "    fontsize=12,\n",
    ")\n",
    "plt.title(\"PySR Pareto frontier\", fontsize=16)\n",
    "plt.xlabel(\"Expression (more complex $\\\\to$)\", fontsize=14)\n",
    "\n",
    "ax2 = plt.twinx()\n",
    "ax2.bar(\n",
    "    np.arange(len(equations.equations_)) + 0.33,\n",
    "    equations.equations_.score,\n",
    "    width=0.33,\n",
    "    color=\"orange\",\n",
    ")\n",
    "ax2.set_ylabel(\"PySR score\", color=\"orange\", fontsize=14)\n",
    "\n",
    "plt.show()"
   ]
  },
  {
   "cell_type": "markdown",
   "id": "28",
   "metadata": {},
   "source": [
    "(sparse-regression-sec)=\n",
    "## Manually Constructed Library + Sparse Regression\n",
    "\n",
    "Another approach to performing symbolic regression is to\n",
    "- Hand-construct a library of basis functions (e.g. by recursively combining all terms with various operations)\n",
    "- Run sparse linear regression to extract a small set of basis functions\n",
    "\n",
    "This approach works well for problems where any constants in the underlying formula can be extracted out to the outermost level (so they can be determined by linear regression). It also works well when we have domain knowledge about which terms could potentially appear in the final sum.\n",
    "\n",
    "It does not work well in cases where constants can't be pulled outside certain operations (e.g. in this case, with the sine operator, though powers and derivatives are generally fine). This method can also struggle when basis function values are highly correlated, though it depends on the sparse regression method.\n",
    "\n",
    "Let's create an augmentation function which takes an array of features and adds additional basis functions by combining them with binary multiplication and unary sine operations:"
   ]
  },
  {
   "cell_type": "code",
   "execution_count": null,
   "id": "29",
   "metadata": {},
   "outputs": [],
   "source": [
    "def augment(feats, names):\n",
    "    existing = set(names)\n",
    "    new_feats = []\n",
    "    new_names = []\n",
    "\n",
    "    for i in range(feats.shape[1]):\n",
    "        name = f\"sin({names[i]})\"\n",
    "        if name not in existing:\n",
    "            new_feats.append(np.sin(feats[:, i]))\n",
    "            new_names.append(name)\n",
    "        for j in range(i, feats.shape[1]):\n",
    "            name = f\"mul({names[i]}, {names[j]})\"\n",
    "            if name not in existing:\n",
    "                new_feats.append(feats[:, i] * feats[:, j])\n",
    "                new_names.append(name)\n",
    "\n",
    "    return np.hstack((feats, np.array(new_feats).T)), names + new_names"
   ]
  },
  {
   "cell_type": "code",
   "execution_count": null,
   "id": "30",
   "metadata": {},
   "outputs": [],
   "source": [
    "def repeatedly_augment(feats, names=None, depth=2):\n",
    "    if names is None:\n",
    "        names = [f\"x{i}\" for i in range(len(feats))]\n",
    "    for _ in range(depth):\n",
    "        feats, names = augment(feats, names)\n",
    "    return feats, names"
   ]
  },
  {
   "cell_type": "code",
   "execution_count": null,
   "id": "31",
   "metadata": {},
   "outputs": [],
   "source": [
    "feats, names = repeatedly_augment(np.array(x), [\"x0\", \"x1\"], depth=2)"
   ]
  },
  {
   "cell_type": "markdown",
   "id": "32",
   "metadata": {},
   "source": [
    "Applying this twice brings us from 2 features up to 37:"
   ]
  },
  {
   "cell_type": "code",
   "execution_count": null,
   "id": "33",
   "metadata": {},
   "outputs": [],
   "source": [
    "feats.shape"
   ]
  },
  {
   "cell_type": "markdown",
   "id": "34",
   "metadata": {},
   "source": [
    "We can see that the complexity of this approach starts to blow up exponentially, though, as we increase the maximum depth of an expression:"
   ]
  },
  {
   "cell_type": "code",
   "execution_count": null,
   "id": "35",
   "metadata": {},
   "outputs": [],
   "source": [
    "augment(feats, names)[0].shape"
   ]
  },
  {
   "cell_type": "code",
   "execution_count": null,
   "id": "36",
   "metadata": {},
   "outputs": [],
   "source": [
    "augment(*augment(feats, names))[0].shape"
   ]
  },
  {
   "cell_type": "markdown",
   "id": "37",
   "metadata": {},
   "source": [
    "If we need arbitrary polynomials of up to 4th order, we end up with orders of magnitude more features than samples, which will cause problems.\n",
    "\n",
    "Note that since this method lacks the ability to apply operations with constants within other operations, $\\sin(0.5 x_0 x_1)$ isn't present in any of these possible sets, though $\\sin(x_0 x_1)$ is.\n",
    "\n",
    "Let's now see how different methods for (sparse) linear regression perform on this task:"
   ]
  },
  {
   "cell_type": "code",
   "execution_count": null,
   "id": "38",
   "metadata": {},
   "outputs": [],
   "source": [
    "def learned_expr(coef, names, cutoff=1e-2):\n",
    "    coef_idx = np.argwhere(np.abs(coef) > cutoff)[:, 0]\n",
    "    sort_order = reversed(np.argsort(np.abs(coef[coef_idx])))\n",
    "    return \" + \".join(\n",
    "        [f\"{coef[coef_idx[i]]:.4f}*{names[coef_idx[i]]}\" for i in sort_order]\n",
    "    )"
   ]
  },
  {
   "cell_type": "markdown",
   "id": "39",
   "metadata": {},
   "source": [
    "(linear-regression-sec)=\n",
    "### Linear regression\n",
    "\n",
    "We can start with completely unregularized linear regression, which will find the linear combination of basis terms that minimizes mean squared error (to high precision, due to the convexity of the problem and an analytic way of solving it)."
   ]
  },
  {
   "cell_type": "code",
   "execution_count": null,
   "id": "40",
   "metadata": {},
   "outputs": [],
   "source": [
    "linreg = LinearRegression()\n",
    "linreg.fit(feats, y)\n",
    "learned_expr(linreg.coef_, names)"
   ]
  },
  {
   "cell_type": "markdown",
   "id": "41",
   "metadata": {},
   "source": [
    "Unfortunately, this doesn't seem to give us a very sparse solution in this case."
   ]
  },
  {
   "cell_type": "markdown",
   "id": "42",
   "metadata": {},
   "source": [
    "(lasso-sec)=\n",
    "### L1-regularized linear regression (LASSO)\n",
    "\n",
    "A common way to make linear regression return more sparse solutions is to minimize a linear combination of the mean squared error and the sum of the magnitudes of the weights. This is called applying an \"L1 penalty\" since it is the L1-norm of the weight vector, and is also referred to as the \"Least Absolute Shrinkage and Selection Operator\", or LASSO. From a Bayesian perspective, this corresponds to doing Bayesian linear regression with a Laplace or double-exponential prior on the weights.\n",
    "\n",
    "Note that although this penalty does tend to encourage sparsity, it's also meant as a regularizer, which can help with the presence of noise. "
   ]
  },
  {
   "cell_type": "code",
   "execution_count": null,
   "id": "43",
   "metadata": {},
   "outputs": [],
   "source": [
    "lasso = Lasso(alpha=0.01)\n",
    "lasso.fit(feats, y)\n",
    "learned_expr(lasso.coef_, names)"
   ]
  },
  {
   "cell_type": "markdown",
   "id": "44",
   "metadata": {},
   "source": [
    "Here, LASSO ends up doing a pretty good job finding the first two terms of the ground-truth model ($x_0^2 - 0.5x_1^2$), with an approximation of the remaining $\\sin(0.5 x_0 x_1)$ term as $ 0.2(x_0\\sin(x_1)+x_1\\sin(x_0)) + 0.1(\\sin(x_0 x_1) + x_0x_1)$:"
   ]
  },
  {
   "cell_type": "code",
   "execution_count": null,
   "id": "45",
   "metadata": {},
   "outputs": [],
   "source": [
    "plt.figure(figsize=(4, 4), dpi=150)\n",
    "x0 = x[:, 0]\n",
    "x1 = x[:, 1]\n",
    "sin = np.sin\n",
    "plt.scatter(\n",
    "    sin(0.5 * x0 * x1),\n",
    "    0.2 * (x0 * sin(x1) + x1 * sin(x0)) + 0.1 * (sin(x0 * x1) + x0 * x1),\n",
    ")\n",
    "plt.plot([-1, 1], [-1, 1], color=\"red\")\n",
    "plt.xlabel(r\"$\\sin(0.5 x_0 x_1)$\", fontsize=12)\n",
    "plt.ylabel(\n",
    "    r\"$0.2(x_0\\sin(x_1)+x_1\\sin(x_0))$\" + \"\\n\" + r\"$+ 0.1(\\sin(x_0 x_1) + x_0x_1)$\",\n",
    "    fontsize=12,\n",
    ")\n",
    "plt.show()"
   ]
  },
  {
   "cell_type": "markdown",
   "id": "46",
   "metadata": {},
   "source": [
    "(rvm-sec)=\n",
    "### Relevance vector machines (RVM)\n",
    "\n",
    "Relevance vector machines, used by [Zanna and Bolton 2020](https://laurezanna.github.io/files/Zanna-Bolton-2020.pdf) for equation discovery, provide another way of learning sparse linear models in a Bayesian manner, though with a different prior that prioritizes sparsity over shrinkage when the data permits it. RVMs can also be used with a kernel trick to learn nonlinear decision boundaries which are sparse in a kernelized feature space, though in this case, we use a linear kernel on top of our manually computed library features."
   ]
  },
  {
   "cell_type": "code",
   "execution_count": null,
   "id": "47",
   "metadata": {},
   "outputs": [],
   "source": [
    "rvm = RVR(verbose=False)\n",
    "rvm.fit(feats, y, names)\n",
    "learned_expr(rvm.m_, rvm.labels)"
   ]
  },
  {
   "cell_type": "markdown",
   "id": "48",
   "metadata": {},
   "source": [
    "RVM does discover the $x_0^2$ and $-0.5x_1^2$ terms almost exactly, but ends up with an even more complex approximate expression for the missing $\\sin(0.5x_0x_1)$ term."
   ]
  },
  {
   "cell_type": "markdown",
   "id": "49",
   "metadata": {},
   "source": [
    "(stlsq-sec)=\n",
    "### Sequentially Thresholded Least Squares (STLSQ) from pysindy\n",
    "\n",
    "The PySINDy library provides a number of efficient Python implementations of sparse regression algorithms. Their default regression method is sequentially thresholded least squares (STLSQ), which (as its name might suggest) repeatedly runs L2-regularized linear regression with penalty strength `alpha` and prunes features with weight magnitudes below a given `threshold`."
   ]
  },
  {
   "cell_type": "code",
   "execution_count": null,
   "id": "50",
   "metadata": {},
   "outputs": [],
   "source": [
    "stlsq = ps.optimizers.stlsq.STLSQ(alpha=0.0001, threshold=0.1)\n",
    "stlsq.fit(feats, y)\n",
    "learned_expr(stlsq.coef_[0], names)"
   ]
  },
  {
   "cell_type": "markdown",
   "id": "51",
   "metadata": {},
   "source": [
    "This method ends up finding a sparser solution than Lasso, though I did tweak the parameters a bit to make that happen :)\n",
    "\n",
    "It's worth checking out [PySINDy's full suite of sparse regression methods](https://pysindy.readthedocs.io/en/latest/api/pysindy.optimizers.html) for other approaches!"
   ]
  },
  {
   "cell_type": "markdown",
   "id": "52",
   "metadata": {},
   "source": [
    "Overall, all of these methods were able to find the $x_0^2$ and $-0.5x_1^2$ terms, but all of them also needed to find approximations for the remaining term because it wasn't in the feature library. Meaning the expressions are both less accurate and more complex."
   ]
  },
  {
   "cell_type": "markdown",
   "id": "53",
   "metadata": {},
   "source": [
    "### Tweaking the Feature Library\n",
    "\n",
    "Now, we can potentially resolve some of these issues by pre-multiplying $x_1$ by 0.5 before the augmentation process (which we'll call $x_{1h}$)."
   ]
  },
  {
   "cell_type": "code",
   "execution_count": null,
   "id": "54",
   "metadata": {},
   "outputs": [],
   "source": [
    "feats2 = np.array(x)\n",
    "feats2[:, 1] = feats2[:, 1] * 0.5\n",
    "names2 = [\"x0\", \"x1h\"]\n",
    "depth = 2\n",
    "\n",
    "for _ in range(depth):\n",
    "    feats2, names2 = augment(feats2, names2)"
   ]
  },
  {
   "cell_type": "markdown",
   "id": "55",
   "metadata": {},
   "source": [
    "In this case, the correct model should be expressed as\n",
    "\n",
    "$$\n",
    "y = x_0^2 - 2x_{1h}^2 + \\sin(x_0 x_{1h})\n",
    "$$\n",
    "\n",
    "which is now a linear combination of our basis terms. Let's see if these regression techniques can find it:"
   ]
  },
  {
   "cell_type": "code",
   "execution_count": null,
   "id": "56",
   "metadata": {},
   "outputs": [],
   "source": [
    "linreg = LinearRegression()\n",
    "linreg.fit(feats2, y)\n",
    "learned_expr(linreg.coef_, names2)"
   ]
  },
  {
   "cell_type": "code",
   "execution_count": null,
   "id": "57",
   "metadata": {},
   "outputs": [],
   "source": [
    "lasso = Lasso(alpha=0.01)\n",
    "lasso.fit(feats2, y)\n",
    "learned_expr(lasso.coef_, names2)"
   ]
  },
  {
   "cell_type": "code",
   "execution_count": null,
   "id": "58",
   "metadata": {},
   "outputs": [],
   "source": [
    "rvm = RVR(verbose=False)\n",
    "rvm.fit(feats2, y, names2)\n",
    "learned_expr(rvm.m_, rvm.labels)"
   ]
  },
  {
   "cell_type": "code",
   "execution_count": null,
   "id": "59",
   "metadata": {},
   "outputs": [],
   "source": [
    "stlsq = ps.optimizers.stlsq.STLSQ(alpha=0.0001, threshold=0.1)\n",
    "stlsq.fit(feats2, y)\n",
    "learned_expr(stlsq.coef_[0], names2)"
   ]
  },
  {
   "cell_type": "markdown",
   "id": "60",
   "metadata": {},
   "source": [
    "In this case, every method except Lasso finds the true model exactly (which held true across many choices of regularization parameter).\n",
    "\n",
    "## Handling noise\n",
    "\n",
    "What if we add noise to the data?"
   ]
  },
  {
   "cell_type": "code",
   "execution_count": null,
   "id": "61",
   "metadata": {},
   "outputs": [],
   "source": [
    "noise = np.random.normal(size=feats2.shape) * 0.01"
   ]
  },
  {
   "cell_type": "code",
   "execution_count": null,
   "id": "62",
   "metadata": {},
   "outputs": [],
   "source": [
    "linreg = LinearRegression()\n",
    "linreg.fit(feats2 + noise, y)\n",
    "learned_expr(linreg.coef_, names2)"
   ]
  },
  {
   "cell_type": "code",
   "execution_count": null,
   "id": "63",
   "metadata": {},
   "outputs": [],
   "source": [
    "lasso = Lasso(alpha=0.01)\n",
    "lasso.fit(feats2 + noise, y)\n",
    "learned_expr(lasso.coef_, names2)"
   ]
  },
  {
   "cell_type": "code",
   "execution_count": null,
   "id": "64",
   "metadata": {},
   "outputs": [],
   "source": [
    "rvm = RVR(verbose=False)\n",
    "rvm.fit(feats2 + noise, y, names2)\n",
    "learned_expr(rvm.m_, rvm.labels)"
   ]
  },
  {
   "cell_type": "code",
   "execution_count": null,
   "id": "65",
   "metadata": {},
   "outputs": [],
   "source": [
    "stlsq = ps.optimizers.stlsq.STLSQ(alpha=0.0001, threshold=0.1)\n",
    "stlsq.fit(feats2 + noise, y)\n",
    "learned_expr(stlsq.coef_[0], names2)"
   ]
  },
  {
   "cell_type": "markdown",
   "id": "66",
   "metadata": {},
   "source": [
    "In this case, it actually becomes _Lasso_ which gets closest to the true model (i.e. is the only regression technique whose first three leading terms match the ground-truth model). This reversal illustrates how noise can strongly impact the effectiveness of different methods for learning symbolic models.\n",
    "\n",
    "Let's see how genetic programming-based techniques deal with noise."
   ]
  },
  {
   "cell_type": "code",
   "execution_count": null,
   "id": "67",
   "metadata": {},
   "outputs": [],
   "source": [
    "noisy_equations = pysr.PySRRegressor(\n",
    "    niterations=5,\n",
    "    binary_operators=[\"+\", \"*\"],  # operators that can combine two terms\n",
    "    unary_operators=[\"sin\"],  # operators that modify a single term\n",
    ")\n",
    "noisy_equations.fit(x, y + np.random.normal(size=y.shape));"
   ]
  },
  {
   "cell_type": "code",
   "execution_count": null,
   "id": "68",
   "metadata": {},
   "outputs": [],
   "source": [
    "noisy_equations.equations_"
   ]
  },
  {
   "cell_type": "code",
   "execution_count": null,
   "id": "69",
   "metadata": {},
   "outputs": [],
   "source": [
    "round_expr(noisy_equations.sympy())"
   ]
  },
  {
   "cell_type": "code",
   "execution_count": null,
   "id": "70",
   "metadata": {},
   "outputs": [],
   "source": [
    "noisy_equations.equations_.sympy_format.values[-4]"
   ]
  },
  {
   "cell_type": "markdown",
   "id": "71",
   "metadata": {},
   "source": [
    "It looks like PySR was still able to discover the true expression as part of its Pareto frontier, though with the noise it's only rated third-best for the default tradeoff between complexity and performance (with a sin-less version taking first)."
   ]
  },
  {
   "cell_type": "markdown",
   "id": "72",
   "metadata": {},
   "source": [
    "## Other Methods for Symbolic Regression\n",
    "\n",
    "To finish the notebook, here are a few other techniques for symbolic regression that don't fit under either previously described methods (and all developed in the last several years):\n",
    "\n",
    "- [STreCH](https://arxiv.org/pdf/2102.08351.pdf) (Julia implementation [here](https://github.com/jongeunkim/STreCH)) formulates symbolic regression as a non-convex mixed-integer nonlinear programming (MINLP) technique, which it solves using a heuristic-guided cutting plane formulation.\n",
    "- [EQL](http://proceedings.mlr.press/v80/sahoo18a/sahoo18a.pdf) (Python implementation [here](https://github.com/martius-lab/EQL)) develops \"equation layers\" for neural networks which can be readily interpreted and also chained together, and are regularized with a thresholded L1 penalty to encourage sparsity.\n",
    "- [AI Feynman](https://arxiv.org/abs/2006.10782) (hybrid Python-Fortran implementation [here](https://github.com/SJ001/AI-Feynman)) starts by training a neural network, then computes _input gradients_ of the learned network, and then uses attributes of those gradients to decompose the symbolic regression problem into something more tractable using graph theory.\n",
    "- [Symbolic Metamodeling](https://papers.nips.cc/paper/2019/hash/567b8f5f423af15818a068235807edc0-Abstract.html) (Python implementation [here](https://github.com/ahmedmalaa/Symbolic-Metamodeling)) uses gradient descent to learn compositions of Meijer-G functions, a flexible family that can be programmatically projected back onto a wide set of analytic, closed-form, or even algebriac expressions."
   ]
  },
  {
   "cell_type": "code",
   "execution_count": null,
   "id": "73",
   "metadata": {},
   "outputs": [],
   "source": []
  }
 ],
 "metadata": {
  "kernelspec": {
   "display_name": "Python 3 (ipykernel)",
   "language": "python",
   "name": "python3"
  },
  "language_info": {
   "codemirror_mode": {
    "name": "ipython",
    "version": 3
   },
   "file_extension": ".py",
   "mimetype": "text/x-python",
   "name": "python",
   "nbconvert_exporter": "python",
   "pygments_lexer": "ipython3",
   "version": "3.9.16"
  }
 },
 "nbformat": 4,
 "nbformat_minor": 5
}
