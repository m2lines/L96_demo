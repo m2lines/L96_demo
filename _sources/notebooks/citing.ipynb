{
 "cells": [
  {
   "cell_type": "markdown",
   "id": "0",
   "metadata": {},
   "source": [
    "# Citing this book\n",
    "\n",
    "If you found this work useful and would like to cite it, please use : \n",
    "Balwada, D., Abernathey, R., Acharya, S., Adcroft, A., Brener, J., Balaji, V., ... & Zanna, L. (2023). Learning Machine Learning with Lorenz-96. Authorea Preprints.\n",
    "\n",
    "DOI: 10.22541/essoar.170365239.95851488/v1\n",
    "PDF available at: https://essopenarchive.org/doi/full/10.22541/essoar.170365239.95851488/v1"
   ]
  }
 ],
 "metadata": {
  "kernelspec": {
   "display_name": "Python 3 (ipykernel)",
   "language": "python",
   "name": "python3"
  },
  "language_info": {
   "codemirror_mode": {
    "name": "ipython",
    "version": 3
   },
   "file_extension": ".py",
   "mimetype": "text/x-python",
   "name": "python",
   "nbconvert_exporter": "python",
   "pygments_lexer": "ipython3",
   "version": "3.10.12"
  }
 },
 "nbformat": 4,
 "nbformat_minor": 5
}
